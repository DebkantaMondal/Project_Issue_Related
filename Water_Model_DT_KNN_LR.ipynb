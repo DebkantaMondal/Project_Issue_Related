{
 "cells": [
  {
   "cell_type": "code",
   "execution_count": 1,
   "id": "ad2c90a2",
   "metadata": {},
   "outputs": [],
   "source": [
    "import numpy as np\n",
    "import pandas as pd\n",
    "import matplotlib.pyplot as plt\n",
    "import seaborn as sns"
   ]
  },
  {
   "cell_type": "code",
   "execution_count": 9,
   "id": "db9c624c",
   "metadata": {},
   "outputs": [
    {
     "data": {
      "text/html": [
       "<div>\n",
       "<style scoped>\n",
       "    .dataframe tbody tr th:only-of-type {\n",
       "        vertical-align: middle;\n",
       "    }\n",
       "\n",
       "    .dataframe tbody tr th {\n",
       "        vertical-align: top;\n",
       "    }\n",
       "\n",
       "    .dataframe thead th {\n",
       "        text-align: right;\n",
       "    }\n",
       "</style>\n",
       "<table border=\"1\" class=\"dataframe\">\n",
       "  <thead>\n",
       "    <tr style=\"text-align: right;\">\n",
       "      <th></th>\n",
       "      <th>timeline</th>\n",
       "      <th>do</th>\n",
       "      <th>ph</th>\n",
       "      <th>co</th>\n",
       "      <th>bod</th>\n",
       "      <th>na</th>\n",
       "      <th>tc</th>\n",
       "    </tr>\n",
       "  </thead>\n",
       "  <tbody>\n",
       "    <tr>\n",
       "      <th>0</th>\n",
       "      <td>04.01.2010</td>\n",
       "      <td>7.0</td>\n",
       "      <td>7.19</td>\n",
       "      <td>168.8</td>\n",
       "      <td>5.50</td>\n",
       "      <td>0.62</td>\n",
       "      <td>8000.0</td>\n",
       "    </tr>\n",
       "    <tr>\n",
       "      <th>1</th>\n",
       "      <td>05.04.2010</td>\n",
       "      <td>7.3</td>\n",
       "      <td>7.21</td>\n",
       "      <td>168.3</td>\n",
       "      <td>4.40</td>\n",
       "      <td>0.17</td>\n",
       "      <td>8000.0</td>\n",
       "    </tr>\n",
       "    <tr>\n",
       "      <th>2</th>\n",
       "      <td>06.07.2010</td>\n",
       "      <td>7.3</td>\n",
       "      <td>7.10</td>\n",
       "      <td>97.0</td>\n",
       "      <td>4.30</td>\n",
       "      <td>0.36</td>\n",
       "      <td>11000.0</td>\n",
       "    </tr>\n",
       "    <tr>\n",
       "      <th>3</th>\n",
       "      <td>05.10.2010</td>\n",
       "      <td>7.3</td>\n",
       "      <td>6.97</td>\n",
       "      <td>129.0</td>\n",
       "      <td>2.50</td>\n",
       "      <td>0.17</td>\n",
       "      <td>14000.0</td>\n",
       "    </tr>\n",
       "    <tr>\n",
       "      <th>4</th>\n",
       "      <td>03.01.2011</td>\n",
       "      <td>7.4</td>\n",
       "      <td>6.95</td>\n",
       "      <td>NaN</td>\n",
       "      <td>6.60</td>\n",
       "      <td>0.25</td>\n",
       "      <td>14000.0</td>\n",
       "    </tr>\n",
       "    <tr>\n",
       "      <th>...</th>\n",
       "      <td>...</td>\n",
       "      <td>...</td>\n",
       "      <td>...</td>\n",
       "      <td>...</td>\n",
       "      <td>...</td>\n",
       "      <td>...</td>\n",
       "      <td>...</td>\n",
       "    </tr>\n",
       "    <tr>\n",
       "      <th>128</th>\n",
       "      <td>18.06.2021</td>\n",
       "      <td>7.1</td>\n",
       "      <td>7.02</td>\n",
       "      <td>145.0</td>\n",
       "      <td>1.05</td>\n",
       "      <td>0.13</td>\n",
       "      <td>44000.0</td>\n",
       "    </tr>\n",
       "    <tr>\n",
       "      <th>129</th>\n",
       "      <td>22.07.2021</td>\n",
       "      <td>7.5</td>\n",
       "      <td>7.10</td>\n",
       "      <td>151.2</td>\n",
       "      <td>1.60</td>\n",
       "      <td>0.11</td>\n",
       "      <td>38000.0</td>\n",
       "    </tr>\n",
       "    <tr>\n",
       "      <th>130</th>\n",
       "      <td>18.06.20210.</td>\n",
       "      <td>6.8</td>\n",
       "      <td>7.06</td>\n",
       "      <td>141.0</td>\n",
       "      <td>1.20</td>\n",
       "      <td>0.20</td>\n",
       "      <td>24000.0</td>\n",
       "    </tr>\n",
       "    <tr>\n",
       "      <th>131</th>\n",
       "      <td>22.09.2021</td>\n",
       "      <td>7.1</td>\n",
       "      <td>7.01</td>\n",
       "      <td>137.2</td>\n",
       "      <td>1.60</td>\n",
       "      <td>0.23</td>\n",
       "      <td>28000.0</td>\n",
       "    </tr>\n",
       "    <tr>\n",
       "      <th>132</th>\n",
       "      <td>13.10.2021</td>\n",
       "      <td>6.9</td>\n",
       "      <td>6.91</td>\n",
       "      <td>140.0</td>\n",
       "      <td>1.50</td>\n",
       "      <td>0.11</td>\n",
       "      <td>36000.0</td>\n",
       "    </tr>\n",
       "  </tbody>\n",
       "</table>\n",
       "<p>133 rows × 7 columns</p>\n",
       "</div>"
      ],
      "text/plain": [
       "         timeline   do    ph     co   bod    na       tc\n",
       "0      04.01.2010  7.0  7.19  168.8  5.50  0.62   8000.0\n",
       "1      05.04.2010  7.3  7.21  168.3  4.40  0.17   8000.0\n",
       "2      06.07.2010  7.3  7.10   97.0  4.30  0.36  11000.0\n",
       "3      05.10.2010  7.3  6.97  129.0  2.50  0.17  14000.0\n",
       "4      03.01.2011  7.4  6.95    NaN  6.60  0.25  14000.0\n",
       "..            ...  ...   ...    ...   ...   ...      ...\n",
       "128    18.06.2021  7.1  7.02  145.0  1.05  0.13  44000.0\n",
       "129    22.07.2021  7.5  7.10  151.2  1.60  0.11  38000.0\n",
       "130  18.06.20210.  6.8  7.06  141.0  1.20  0.20  24000.0\n",
       "131    22.09.2021  7.1  7.01  137.2  1.60  0.23  28000.0\n",
       "132    13.10.2021  6.9  6.91  140.0  1.50  0.11  36000.0\n",
       "\n",
       "[133 rows x 7 columns]"
      ]
     },
     "execution_count": 9,
     "metadata": {},
     "output_type": "execute_result"
    }
   ],
   "source": [
    "data = pd.read_csv(\"final.csv\")\n",
    "data = data.drop([\"Unnamed: 0\",\"npH\",\"ndo\",\"nco\",\"nbdo\",\"nec\",\"nna\"], axis=1)\n",
    "data"
   ]
  },
  {
   "cell_type": "code",
   "execution_count": 10,
   "id": "f52baf67",
   "metadata": {},
   "outputs": [
    {
     "data": {
      "text/plain": [
       "(133, 7)"
      ]
     },
     "execution_count": 10,
     "metadata": {},
     "output_type": "execute_result"
    }
   ],
   "source": [
    "data.shape"
   ]
  },
  {
   "cell_type": "code",
   "execution_count": 11,
   "id": "3661cc34",
   "metadata": {},
   "outputs": [
    {
     "data": {
      "text/plain": [
       "timeline     0\n",
       "do           1\n",
       "ph           9\n",
       "co           2\n",
       "bod          1\n",
       "na          10\n",
       "tc           1\n",
       "dtype: int64"
      ]
     },
     "execution_count": 11,
     "metadata": {},
     "output_type": "execute_result"
    }
   ],
   "source": [
    "data.isnull().sum()"
   ]
  },
  {
   "cell_type": "code",
   "execution_count": 12,
   "id": "f7479f6b",
   "metadata": {},
   "outputs": [
    {
     "name": "stdout",
     "output_type": "stream",
     "text": [
      "<class 'pandas.core.frame.DataFrame'>\n",
      "RangeIndex: 133 entries, 0 to 132\n",
      "Data columns (total 7 columns):\n",
      " #   Column    Non-Null Count  Dtype  \n",
      "---  ------    --------------  -----  \n",
      " 0   timeline  133 non-null    object \n",
      " 1   do        132 non-null    float64\n",
      " 2   ph        124 non-null    float64\n",
      " 3   co        131 non-null    float64\n",
      " 4   bod       132 non-null    float64\n",
      " 5   na        123 non-null    float64\n",
      " 6   tc        132 non-null    float64\n",
      "dtypes: float64(6), object(1)\n",
      "memory usage: 7.4+ KB\n"
     ]
    }
   ],
   "source": [
    "data.info()"
   ]
  },
  {
   "cell_type": "code",
   "execution_count": 13,
   "id": "7222206f",
   "metadata": {},
   "outputs": [
    {
     "data": {
      "text/html": [
       "<div>\n",
       "<style scoped>\n",
       "    .dataframe tbody tr th:only-of-type {\n",
       "        vertical-align: middle;\n",
       "    }\n",
       "\n",
       "    .dataframe tbody tr th {\n",
       "        vertical-align: top;\n",
       "    }\n",
       "\n",
       "    .dataframe thead th {\n",
       "        text-align: right;\n",
       "    }\n",
       "</style>\n",
       "<table border=\"1\" class=\"dataframe\">\n",
       "  <thead>\n",
       "    <tr style=\"text-align: right;\">\n",
       "      <th></th>\n",
       "      <th>do</th>\n",
       "      <th>ph</th>\n",
       "      <th>co</th>\n",
       "      <th>bod</th>\n",
       "      <th>na</th>\n",
       "      <th>tc</th>\n",
       "    </tr>\n",
       "  </thead>\n",
       "  <tbody>\n",
       "    <tr>\n",
       "      <th>count</th>\n",
       "      <td>132.000000</td>\n",
       "      <td>124.000000</td>\n",
       "      <td>131.000000</td>\n",
       "      <td>132.000000</td>\n",
       "      <td>123.000000</td>\n",
       "      <td>132.000000</td>\n",
       "    </tr>\n",
       "    <tr>\n",
       "      <th>mean</th>\n",
       "      <td>7.825530</td>\n",
       "      <td>7.115565</td>\n",
       "      <td>179.547328</td>\n",
       "      <td>2.829015</td>\n",
       "      <td>0.677967</td>\n",
       "      <td>44806.454545</td>\n",
       "    </tr>\n",
       "    <tr>\n",
       "      <th>std</th>\n",
       "      <td>9.190893</td>\n",
       "      <td>0.954678</td>\n",
       "      <td>138.657619</td>\n",
       "      <td>1.822071</td>\n",
       "      <td>1.121524</td>\n",
       "      <td>59289.732258</td>\n",
       "    </tr>\n",
       "    <tr>\n",
       "      <th>min</th>\n",
       "      <td>3.300000</td>\n",
       "      <td>0.280000</td>\n",
       "      <td>63.320000</td>\n",
       "      <td>0.500000</td>\n",
       "      <td>0.020000</td>\n",
       "      <td>0.000000</td>\n",
       "    </tr>\n",
       "    <tr>\n",
       "      <th>25%</th>\n",
       "      <td>6.600000</td>\n",
       "      <td>6.977500</td>\n",
       "      <td>135.850000</td>\n",
       "      <td>1.600000</td>\n",
       "      <td>0.225000</td>\n",
       "      <td>14000.000000</td>\n",
       "    </tr>\n",
       "    <tr>\n",
       "      <th>50%</th>\n",
       "      <td>7.000000</td>\n",
       "      <td>7.185000</td>\n",
       "      <td>152.000000</td>\n",
       "      <td>2.400000</td>\n",
       "      <td>0.440000</td>\n",
       "      <td>26000.000000</td>\n",
       "    </tr>\n",
       "    <tr>\n",
       "      <th>75%</th>\n",
       "      <td>7.400000</td>\n",
       "      <td>7.432500</td>\n",
       "      <td>184.600000</td>\n",
       "      <td>3.400000</td>\n",
       "      <td>0.640000</td>\n",
       "      <td>50000.000000</td>\n",
       "    </tr>\n",
       "    <tr>\n",
       "      <th>max</th>\n",
       "      <td>112.000000</td>\n",
       "      <td>8.780000</td>\n",
       "      <td>1467.000000</td>\n",
       "      <td>16.000000</td>\n",
       "      <td>7.680000</td>\n",
       "      <td>350000.000000</td>\n",
       "    </tr>\n",
       "  </tbody>\n",
       "</table>\n",
       "</div>"
      ],
      "text/plain": [
       "               do          ph           co         bod          na  \\\n",
       "count  132.000000  124.000000   131.000000  132.000000  123.000000   \n",
       "mean     7.825530    7.115565   179.547328    2.829015    0.677967   \n",
       "std      9.190893    0.954678   138.657619    1.822071    1.121524   \n",
       "min      3.300000    0.280000    63.320000    0.500000    0.020000   \n",
       "25%      6.600000    6.977500   135.850000    1.600000    0.225000   \n",
       "50%      7.000000    7.185000   152.000000    2.400000    0.440000   \n",
       "75%      7.400000    7.432500   184.600000    3.400000    0.640000   \n",
       "max    112.000000    8.780000  1467.000000   16.000000    7.680000   \n",
       "\n",
       "                  tc  \n",
       "count     132.000000  \n",
       "mean    44806.454545  \n",
       "std     59289.732258  \n",
       "min         0.000000  \n",
       "25%     14000.000000  \n",
       "50%     26000.000000  \n",
       "75%     50000.000000  \n",
       "max    350000.000000  "
      ]
     },
     "execution_count": 13,
     "metadata": {},
     "output_type": "execute_result"
    }
   ],
   "source": [
    "data.describe()"
   ]
  },
  {
   "cell_type": "code",
   "execution_count": 14,
   "id": "7b251973",
   "metadata": {},
   "outputs": [
    {
     "data": {
      "text/plain": [
       "2.829015151515151"
      ]
     },
     "execution_count": 14,
     "metadata": {},
     "output_type": "execute_result"
    }
   ],
   "source": [
    "data['bod'].mean()"
   ]
  },
  {
   "cell_type": "code",
   "execution_count": 15,
   "id": "c07b8e7d",
   "metadata": {},
   "outputs": [
    {
     "name": "stderr",
     "output_type": "stream",
     "text": [
      "/tmp/ipykernel_5079/4170803678.py:1: FutureWarning: Dropping of nuisance columns in DataFrame reductions (with 'numeric_only=None') is deprecated; in a future version this will raise TypeError.  Select only valid columns before calling the reduction.\n",
      "  data.fillna(data.mean(), inplace=True)\n"
     ]
    },
    {
     "data": {
      "text/html": [
       "<div>\n",
       "<style scoped>\n",
       "    .dataframe tbody tr th:only-of-type {\n",
       "        vertical-align: middle;\n",
       "    }\n",
       "\n",
       "    .dataframe tbody tr th {\n",
       "        vertical-align: top;\n",
       "    }\n",
       "\n",
       "    .dataframe thead th {\n",
       "        text-align: right;\n",
       "    }\n",
       "</style>\n",
       "<table border=\"1\" class=\"dataframe\">\n",
       "  <thead>\n",
       "    <tr style=\"text-align: right;\">\n",
       "      <th></th>\n",
       "      <th>timeline</th>\n",
       "      <th>do</th>\n",
       "      <th>ph</th>\n",
       "      <th>co</th>\n",
       "      <th>bod</th>\n",
       "      <th>na</th>\n",
       "      <th>tc</th>\n",
       "    </tr>\n",
       "  </thead>\n",
       "  <tbody>\n",
       "    <tr>\n",
       "      <th>0</th>\n",
       "      <td>04.01.2010</td>\n",
       "      <td>7.0</td>\n",
       "      <td>7.19</td>\n",
       "      <td>168.800000</td>\n",
       "      <td>5.5</td>\n",
       "      <td>0.62</td>\n",
       "      <td>8000.0</td>\n",
       "    </tr>\n",
       "    <tr>\n",
       "      <th>1</th>\n",
       "      <td>05.04.2010</td>\n",
       "      <td>7.3</td>\n",
       "      <td>7.21</td>\n",
       "      <td>168.300000</td>\n",
       "      <td>4.4</td>\n",
       "      <td>0.17</td>\n",
       "      <td>8000.0</td>\n",
       "    </tr>\n",
       "    <tr>\n",
       "      <th>2</th>\n",
       "      <td>06.07.2010</td>\n",
       "      <td>7.3</td>\n",
       "      <td>7.10</td>\n",
       "      <td>97.000000</td>\n",
       "      <td>4.3</td>\n",
       "      <td>0.36</td>\n",
       "      <td>11000.0</td>\n",
       "    </tr>\n",
       "    <tr>\n",
       "      <th>3</th>\n",
       "      <td>05.10.2010</td>\n",
       "      <td>7.3</td>\n",
       "      <td>6.97</td>\n",
       "      <td>129.000000</td>\n",
       "      <td>2.5</td>\n",
       "      <td>0.17</td>\n",
       "      <td>14000.0</td>\n",
       "    </tr>\n",
       "    <tr>\n",
       "      <th>4</th>\n",
       "      <td>03.01.2011</td>\n",
       "      <td>7.4</td>\n",
       "      <td>6.95</td>\n",
       "      <td>179.547328</td>\n",
       "      <td>6.6</td>\n",
       "      <td>0.25</td>\n",
       "      <td>14000.0</td>\n",
       "    </tr>\n",
       "  </tbody>\n",
       "</table>\n",
       "</div>"
      ],
      "text/plain": [
       "     timeline   do    ph          co  bod    na       tc\n",
       "0  04.01.2010  7.0  7.19  168.800000  5.5  0.62   8000.0\n",
       "1  05.04.2010  7.3  7.21  168.300000  4.4  0.17   8000.0\n",
       "2  06.07.2010  7.3  7.10   97.000000  4.3  0.36  11000.0\n",
       "3  05.10.2010  7.3  6.97  129.000000  2.5  0.17  14000.0\n",
       "4  03.01.2011  7.4  6.95  179.547328  6.6  0.25  14000.0"
      ]
     },
     "execution_count": 15,
     "metadata": {},
     "output_type": "execute_result"
    }
   ],
   "source": [
    "data.fillna(data.mean(), inplace=True)\n",
    "data.head()"
   ]
  },
  {
   "cell_type": "code",
   "execution_count": 16,
   "id": "80a5576a",
   "metadata": {},
   "outputs": [
    {
     "data": {
      "text/plain": [
       "timeline    0\n",
       "do          0\n",
       "ph          0\n",
       "co          0\n",
       "bod         0\n",
       "na          0\n",
       "tc          0\n",
       "dtype: int64"
      ]
     },
     "execution_count": 16,
     "metadata": {},
     "output_type": "execute_result"
    }
   ],
   "source": [
    "data.isnull().sum()"
   ]
  },
  {
   "cell_type": "code",
   "execution_count": 17,
   "id": "b9851c63",
   "metadata": {},
   "outputs": [
    {
     "name": "stdout",
     "output_type": "stream",
     "text": [
      "<class 'pandas.core.frame.DataFrame'>\n",
      "RangeIndex: 133 entries, 0 to 132\n",
      "Data columns (total 7 columns):\n",
      " #   Column    Non-Null Count  Dtype  \n",
      "---  ------    --------------  -----  \n",
      " 0   timeline  133 non-null    object \n",
      " 1   do        133 non-null    float64\n",
      " 2   ph        133 non-null    float64\n",
      " 3   co        133 non-null    float64\n",
      " 4   bod       133 non-null    float64\n",
      " 5   na        133 non-null    float64\n",
      " 6   tc        133 non-null    float64\n",
      "dtypes: float64(6), object(1)\n",
      "memory usage: 7.4+ KB\n"
     ]
    }
   ],
   "source": [
    "data.info()"
   ]
  },
  {
   "cell_type": "code",
   "execution_count": 18,
   "id": "1c252494",
   "metadata": {},
   "outputs": [
    {
     "data": {
      "text/html": [
       "<div>\n",
       "<style scoped>\n",
       "    .dataframe tbody tr th:only-of-type {\n",
       "        vertical-align: middle;\n",
       "    }\n",
       "\n",
       "    .dataframe tbody tr th {\n",
       "        vertical-align: top;\n",
       "    }\n",
       "\n",
       "    .dataframe thead th {\n",
       "        text-align: right;\n",
       "    }\n",
       "</style>\n",
       "<table border=\"1\" class=\"dataframe\">\n",
       "  <thead>\n",
       "    <tr style=\"text-align: right;\">\n",
       "      <th></th>\n",
       "      <th>do</th>\n",
       "      <th>ph</th>\n",
       "      <th>co</th>\n",
       "      <th>bod</th>\n",
       "      <th>na</th>\n",
       "      <th>tc</th>\n",
       "    </tr>\n",
       "  </thead>\n",
       "  <tbody>\n",
       "    <tr>\n",
       "      <th>count</th>\n",
       "      <td>133.000000</td>\n",
       "      <td>133.000000</td>\n",
       "      <td>133.000000</td>\n",
       "      <td>133.000000</td>\n",
       "      <td>133.000000</td>\n",
       "      <td>133.000000</td>\n",
       "    </tr>\n",
       "    <tr>\n",
       "      <th>mean</th>\n",
       "      <td>7.825530</td>\n",
       "      <td>7.115565</td>\n",
       "      <td>179.547328</td>\n",
       "      <td>2.829015</td>\n",
       "      <td>0.677967</td>\n",
       "      <td>44806.454545</td>\n",
       "    </tr>\n",
       "    <tr>\n",
       "      <th>std</th>\n",
       "      <td>9.156013</td>\n",
       "      <td>0.921558</td>\n",
       "      <td>137.603173</td>\n",
       "      <td>1.815156</td>\n",
       "      <td>1.078206</td>\n",
       "      <td>59064.722974</td>\n",
       "    </tr>\n",
       "    <tr>\n",
       "      <th>min</th>\n",
       "      <td>3.300000</td>\n",
       "      <td>0.280000</td>\n",
       "      <td>63.320000</td>\n",
       "      <td>0.500000</td>\n",
       "      <td>0.020000</td>\n",
       "      <td>0.000000</td>\n",
       "    </tr>\n",
       "    <tr>\n",
       "      <th>25%</th>\n",
       "      <td>6.600000</td>\n",
       "      <td>6.980000</td>\n",
       "      <td>136.700000</td>\n",
       "      <td>1.600000</td>\n",
       "      <td>0.230000</td>\n",
       "      <td>14000.000000</td>\n",
       "    </tr>\n",
       "    <tr>\n",
       "      <th>50%</th>\n",
       "      <td>7.000000</td>\n",
       "      <td>7.130000</td>\n",
       "      <td>154.000000</td>\n",
       "      <td>2.400000</td>\n",
       "      <td>0.450000</td>\n",
       "      <td>26000.000000</td>\n",
       "    </tr>\n",
       "    <tr>\n",
       "      <th>75%</th>\n",
       "      <td>7.400000</td>\n",
       "      <td>7.400000</td>\n",
       "      <td>184.200000</td>\n",
       "      <td>3.400000</td>\n",
       "      <td>0.670000</td>\n",
       "      <td>50000.000000</td>\n",
       "    </tr>\n",
       "    <tr>\n",
       "      <th>max</th>\n",
       "      <td>112.000000</td>\n",
       "      <td>8.780000</td>\n",
       "      <td>1467.000000</td>\n",
       "      <td>16.000000</td>\n",
       "      <td>7.680000</td>\n",
       "      <td>350000.000000</td>\n",
       "    </tr>\n",
       "  </tbody>\n",
       "</table>\n",
       "</div>"
      ],
      "text/plain": [
       "               do          ph           co         bod          na  \\\n",
       "count  133.000000  133.000000   133.000000  133.000000  133.000000   \n",
       "mean     7.825530    7.115565   179.547328    2.829015    0.677967   \n",
       "std      9.156013    0.921558   137.603173    1.815156    1.078206   \n",
       "min      3.300000    0.280000    63.320000    0.500000    0.020000   \n",
       "25%      6.600000    6.980000   136.700000    1.600000    0.230000   \n",
       "50%      7.000000    7.130000   154.000000    2.400000    0.450000   \n",
       "75%      7.400000    7.400000   184.200000    3.400000    0.670000   \n",
       "max    112.000000    8.780000  1467.000000   16.000000    7.680000   \n",
       "\n",
       "                  tc  \n",
       "count     133.000000  \n",
       "mean    44806.454545  \n",
       "std     59064.722974  \n",
       "min         0.000000  \n",
       "25%     14000.000000  \n",
       "50%     26000.000000  \n",
       "75%     50000.000000  \n",
       "max    350000.000000  "
      ]
     },
     "execution_count": 18,
     "metadata": {},
     "output_type": "execute_result"
    }
   ],
   "source": [
    "data.describe()"
   ]
  },
  {
   "cell_type": "code",
   "execution_count": 20,
   "id": "1713bc9a",
   "metadata": {},
   "outputs": [
    {
     "data": {
      "text/plain": [
       "6.80000      14\n",
       "7.20000      14\n",
       "6.90000      10\n",
       "7.30000       7\n",
       "7.40000       6\n",
       "7.00000       5\n",
       "6.30000       5\n",
       "6.50000       5\n",
       "7.80000       5\n",
       "7.10000       4\n",
       "6.60000       4\n",
       "8.00000       4\n",
       "6.10000       3\n",
       "5.40000       3\n",
       "7.90000       3\n",
       "6.20000       2\n",
       "5.80000       2\n",
       "7.50000       2\n",
       "6.70000       2\n",
       "6.00000       2\n",
       "7.60000       2\n",
       "8.80000       1\n",
       "8.09000       1\n",
       "6.02000       1\n",
       "9.02000       1\n",
       "9.87000       1\n",
       "4.89000       1\n",
       "7.32000       1\n",
       "10.50000      1\n",
       "5.20000       1\n",
       "6.85000       1\n",
       "6.92000       1\n",
       "7.01000       1\n",
       "6.35000       1\n",
       "10.80000      1\n",
       "8.08000       1\n",
       "9.76000       1\n",
       "8.90000       1\n",
       "7.89000       1\n",
       "112.00000     1\n",
       "5.30000       1\n",
       "7.70000       1\n",
       "4.80000       1\n",
       "3.30000       1\n",
       "7.82553       1\n",
       "8.70000       1\n",
       "6.40000       1\n",
       "5.50000       1\n",
       "8.20000       1\n",
       "5.70000       1\n",
       "Name: do, dtype: int64"
      ]
     },
     "execution_count": 20,
     "metadata": {},
     "output_type": "execute_result"
    }
   ],
   "source": [
    "data.do.value_counts()"
   ]
  },
  {
   "cell_type": "code",
   "execution_count": 22,
   "id": "ac75cc40",
   "metadata": {},
   "outputs": [
    {
     "data": {
      "image/png": "[encoded data removed]",
      "text/plain": [
       "<Figure size 432x288 with 1 Axes>"
      ]
     },
     "metadata": {
      "needs_background": "light"
     },
     "output_type": "display_data"
    }
   ],
   "source": [
    "data.do.value_counts().plot(kind=\"bar\")\n",
    "plt.show()"
   ]
  },
  {
   "cell_type": "code",
   "execution_count": 37,
   "id": "8337b200",
   "metadata": {},
   "outputs": [
    {
     "name": "stderr",
     "output_type": "stream",
     "text": [
      "/home/debkanta/jupyter/environment/lib/python3.8/site-packages/seaborn/distributions.py:2619: FutureWarning: `distplot` is a deprecated function and will be removed in a future version. Please adapt your code to use either `displot` (a figure-level function with similar flexibility) or `histplot` (an axes-level function for histograms).\n",
      "  warnings.warn(msg, FutureWarning)\n"
     ]
    },
    {
     "data": {
      "text/plain": [
       "<AxesSubplot:xlabel='do', ylabel='Density'>"
      ]
     },
     "execution_count": 37,
     "metadata": {},
     "output_type": "execute_result"
    },
    {
     "data": {
      "image/png": "[encoded data removed]",
      "text/plain": [
       "<Figure size 432x288 with 1 Axes>"
      ]
     },
     "metadata": {
      "needs_background": "light"
     },
     "output_type": "display_data"
    }
   ],
   "source": [
    "\n",
    "sns.distplot(data['do'])"
   ]
  },
  {
   "cell_type": "code",
   "execution_count": 24,
   "id": "734a7e50",
   "metadata": {},
   "outputs": [
    {
     "data": {
      "image/png": "[encoded data removed]",
      "text/plain": [
       "<Figure size 1008x1008 with 6 Axes>"
      ]
     },
     "metadata": {
      "needs_background": "light"
     },
     "output_type": "display_data"
    }
   ],
   "source": [
    "data.hist(figsize=(14,14))\n",
    "plt.show()"
   ]
  },
  {
   "cell_type": "code",
   "execution_count": 25,
   "id": "3da55e95",
   "metadata": {},
   "outputs": [],
   "source": [
    "data_copied = data.copy()"
   ]
  },
  {
   "cell_type": "code",
   "execution_count": 30,
   "id": "dce9db69",
   "metadata": {},
   "outputs": [],
   "source": [
    "data_copied\n",
    "data_copied = data_copied.drop(\"timeline\", axis=1)"
   ]
  },
  {
   "cell_type": "code",
   "execution_count": 31,
   "id": "0a84e8c8",
   "metadata": {},
   "outputs": [],
   "source": [
    "#Normalization Using Min-Max Feature Scaling Technique\n",
    "for col in data_copied.columns:\n",
    "    data_copied[col] = (data_copied[col] - data_copied[col].min()) / (data_copied[col].max() - data_copied[col].min())    "
   ]
  },
  {
   "cell_type": "code",
   "execution_count": 32,
   "id": "8ef80216",
   "metadata": {},
   "outputs": [
    {
     "data": {
      "text/html": [
       "<div>\n",
       "<style scoped>\n",
       "    .dataframe tbody tr th:only-of-type {\n",
       "        vertical-align: middle;\n",
       "    }\n",
       "\n",
       "    .dataframe tbody tr th {\n",
       "        vertical-align: top;\n",
       "    }\n",
       "\n",
       "    .dataframe thead th {\n",
       "        text-align: right;\n",
       "    }\n",
       "</style>\n",
       "<table border=\"1\" class=\"dataframe\">\n",
       "  <thead>\n",
       "    <tr style=\"text-align: right;\">\n",
       "      <th></th>\n",
       "      <th>do</th>\n",
       "      <th>ph</th>\n",
       "      <th>co</th>\n",
       "      <th>bod</th>\n",
       "      <th>na</th>\n",
       "      <th>tc</th>\n",
       "    </tr>\n",
       "  </thead>\n",
       "  <tbody>\n",
       "    <tr>\n",
       "      <th>0</th>\n",
       "      <td>0.034039</td>\n",
       "      <td>0.812941</td>\n",
       "      <td>0.075145</td>\n",
       "      <td>0.322581</td>\n",
       "      <td>0.078329</td>\n",
       "      <td>0.022857</td>\n",
       "    </tr>\n",
       "    <tr>\n",
       "      <th>1</th>\n",
       "      <td>0.036799</td>\n",
       "      <td>0.815294</td>\n",
       "      <td>0.074789</td>\n",
       "      <td>0.251613</td>\n",
       "      <td>0.019582</td>\n",
       "      <td>0.022857</td>\n",
       "    </tr>\n",
       "    <tr>\n",
       "      <th>2</th>\n",
       "      <td>0.036799</td>\n",
       "      <td>0.802353</td>\n",
       "      <td>0.023994</td>\n",
       "      <td>0.245161</td>\n",
       "      <td>0.044386</td>\n",
       "      <td>0.031429</td>\n",
       "    </tr>\n",
       "    <tr>\n",
       "      <th>3</th>\n",
       "      <td>0.036799</td>\n",
       "      <td>0.787059</td>\n",
       "      <td>0.046791</td>\n",
       "      <td>0.129032</td>\n",
       "      <td>0.019582</td>\n",
       "      <td>0.040000</td>\n",
       "    </tr>\n",
       "    <tr>\n",
       "      <th>4</th>\n",
       "      <td>0.037718</td>\n",
       "      <td>0.784706</td>\n",
       "      <td>0.082802</td>\n",
       "      <td>0.393548</td>\n",
       "      <td>0.030026</td>\n",
       "      <td>0.040000</td>\n",
       "    </tr>\n",
       "    <tr>\n",
       "      <th>...</th>\n",
       "      <td>...</td>\n",
       "      <td>...</td>\n",
       "      <td>...</td>\n",
       "      <td>...</td>\n",
       "      <td>...</td>\n",
       "      <td>...</td>\n",
       "    </tr>\n",
       "    <tr>\n",
       "      <th>128</th>\n",
       "      <td>0.034959</td>\n",
       "      <td>0.792941</td>\n",
       "      <td>0.058190</td>\n",
       "      <td>0.035484</td>\n",
       "      <td>0.014360</td>\n",
       "      <td>0.125714</td>\n",
       "    </tr>\n",
       "    <tr>\n",
       "      <th>129</th>\n",
       "      <td>0.038638</td>\n",
       "      <td>0.802353</td>\n",
       "      <td>0.062607</td>\n",
       "      <td>0.070968</td>\n",
       "      <td>0.011749</td>\n",
       "      <td>0.108571</td>\n",
       "    </tr>\n",
       "    <tr>\n",
       "      <th>130</th>\n",
       "      <td>0.032199</td>\n",
       "      <td>0.797647</td>\n",
       "      <td>0.055340</td>\n",
       "      <td>0.045161</td>\n",
       "      <td>0.023499</td>\n",
       "      <td>0.068571</td>\n",
       "    </tr>\n",
       "    <tr>\n",
       "      <th>131</th>\n",
       "      <td>0.034959</td>\n",
       "      <td>0.791765</td>\n",
       "      <td>0.052633</td>\n",
       "      <td>0.070968</td>\n",
       "      <td>0.027415</td>\n",
       "      <td>0.080000</td>\n",
       "    </tr>\n",
       "    <tr>\n",
       "      <th>132</th>\n",
       "      <td>0.033119</td>\n",
       "      <td>0.780000</td>\n",
       "      <td>0.054628</td>\n",
       "      <td>0.064516</td>\n",
       "      <td>0.011749</td>\n",
       "      <td>0.102857</td>\n",
       "    </tr>\n",
       "  </tbody>\n",
       "</table>\n",
       "<p>133 rows × 6 columns</p>\n",
       "</div>"
      ],
      "text/plain": [
       "           do        ph        co       bod        na        tc\n",
       "0    0.034039  0.812941  0.075145  0.322581  0.078329  0.022857\n",
       "1    0.036799  0.815294  0.074789  0.251613  0.019582  0.022857\n",
       "2    0.036799  0.802353  0.023994  0.245161  0.044386  0.031429\n",
       "3    0.036799  0.787059  0.046791  0.129032  0.019582  0.040000\n",
       "4    0.037718  0.784706  0.082802  0.393548  0.030026  0.040000\n",
       "..        ...       ...       ...       ...       ...       ...\n",
       "128  0.034959  0.792941  0.058190  0.035484  0.014360  0.125714\n",
       "129  0.038638  0.802353  0.062607  0.070968  0.011749  0.108571\n",
       "130  0.032199  0.797647  0.055340  0.045161  0.023499  0.068571\n",
       "131  0.034959  0.791765  0.052633  0.070968  0.027415  0.080000\n",
       "132  0.033119  0.780000  0.054628  0.064516  0.011749  0.102857\n",
       "\n",
       "[133 rows x 6 columns]"
      ]
     },
     "execution_count": 32,
     "metadata": {},
     "output_type": "execute_result"
    }
   ],
   "source": [
    "data_copied"
   ]
  },
  {
   "cell_type": "code",
   "execution_count": 34,
   "id": "1528f4ae",
   "metadata": {},
   "outputs": [
    {
     "name": "stderr",
     "output_type": "stream",
     "text": [
      "/home/debkanta/jupyter/environment/lib/python3.8/site-packages/seaborn/distributions.py:2619: FutureWarning: `distplot` is a deprecated function and will be removed in a future version. Please adapt your code to use either `displot` (a figure-level function with similar flexibility) or `histplot` (an axes-level function for histograms).\n",
      "  warnings.warn(msg, FutureWarning)\n"
     ]
    },
    {
     "data": {
      "text/plain": [
       "<AxesSubplot:xlabel='bod', ylabel='Density'>"
      ]
     },
     "execution_count": 34,
     "metadata": {},
     "output_type": "execute_result"
    },
    {
     "data": {
      "image/png": "[encoded data removed]",
      "text/plain": [
       "<Figure size 432x288 with 1 Axes>"
      ]
     },
     "metadata": {
      "needs_background": "light"
     },
     "output_type": "display_data"
    }
   ],
   "source": [
    "sns.distplot(data_copied['bod'])"
   ]
  },
  {
   "cell_type": "code",
   "execution_count": 38,
   "id": "b44cbf38",
   "metadata": {},
   "outputs": [
    {
     "data": {
      "image/png": "[encoded data removed]",
      "text/plain": [
       "<Figure size 1008x1008 with 6 Axes>"
      ]
     },
     "metadata": {
      "needs_background": "light"
     },
     "output_type": "display_data"
    }
   ],
   "source": [
    "data_copied.hist(figsize=(14,14))\n",
    "plt.show()"
   ]
  },
  {
   "cell_type": "code",
   "execution_count": 39,
   "id": "af57cc6e",
   "metadata": {},
   "outputs": [],
   "source": [
    "#Decied To Take Prev Data as after Normalization they are quite same"
   ]
  },
  {
   "cell_type": "code",
   "execution_count": 40,
   "id": "60efdcd5",
   "metadata": {},
   "outputs": [
    {
     "data": {
      "text/plain": [
       "<seaborn.axisgrid.PairGrid at 0x7f55900e5640>"
      ]
     },
     "execution_count": 40,
     "metadata": {},
     "output_type": "execute_result"
    },
    {
     "data": {
      "image/png": "[encoded data removed]",
      "text/plain": [
       "<Figure size 954.875x900 with 30 Axes>"
      ]
     },
     "metadata": {
      "needs_background": "light"
     },
     "output_type": "display_data"
    }
   ],
   "source": [
    "sns.pairplot(data,hue='do')"
   ]
  },
  {
   "cell_type": "code",
   "execution_count": 47,
   "id": "41156cd1",
   "metadata": {},
   "outputs": [
    {
     "data": {
      "text/plain": [
       "<AxesSubplot:xlabel='do', ylabel='na'>"
      ]
     },
     "execution_count": 47,
     "metadata": {},
     "output_type": "execute_result"
    },
    {
     "data": {
      "image/png": "[encoded data removed]",
      "text/plain": [
       "<Figure size 432x288 with 1 Axes>"
      ]
     },
     "metadata": {
      "needs_background": "light"
     },
     "output_type": "display_data"
    }
   ],
   "source": [
    "sns.scatterplot(data['do'],data['na'])"
   ]
  },
  {
   "cell_type": "code",
   "execution_count": 48,
   "id": "69a3261b",
   "metadata": {},
   "outputs": [
    {
     "data": {
      "image/png": "[encoded data removed]",
      "text/plain": [
       "<Figure size 576x432 with 2 Axes>"
      ]
     },
     "metadata": {
      "needs_background": "light"
     },
     "output_type": "display_data"
    }
   ],
   "source": [
    "# create a correlation heatmap\n",
    "sns.heatmap(data.corr(),annot=True, cmap='terrain', linewidths=0.1)\n",
    "fig=plt.gcf()\n",
    "fig.set_size_inches(8,6)\n",
    "plt.show()"
   ]
  },
  {
   "cell_type": "code",
   "execution_count": 49,
   "id": "c3b282d0",
   "metadata": {},
   "outputs": [
    {
     "data": {
      "text/plain": [
       "<AxesSubplot:>"
      ]
     },
     "execution_count": 49,
     "metadata": {},
     "output_type": "execute_result"
    },
    {
     "data": {
      "image/png": "[encoded data removed]",
      "text/plain": [
       "<Figure size 1008x504 with 1 Axes>"
      ]
     },
     "metadata": {
      "needs_background": "light"
     },
     "output_type": "display_data"
    }
   ],
   "source": [
    "data.boxplot(figsize=(14,7))"
   ]
  },
  {
   "cell_type": "code",
   "execution_count": 50,
   "id": "bd7b839d",
   "metadata": {},
   "outputs": [
    {
     "data": {
      "text/plain": [
       "count       133.000000\n",
       "mean      44806.454545\n",
       "std       59064.722974\n",
       "min           0.000000\n",
       "25%       14000.000000\n",
       "50%       26000.000000\n",
       "75%       50000.000000\n",
       "max      350000.000000\n",
       "Name: tc, dtype: float64"
      ]
     },
     "execution_count": 50,
     "metadata": {},
     "output_type": "execute_result"
    }
   ],
   "source": [
    "data['tc'].describe()"
   ]
  },
  {
   "cell_type": "code",
   "execution_count": null,
   "id": "ddf0e8bb",
   "metadata": {},
   "outputs": [],
   "source": []
  },
  {
   "cell_type": "raw",
   "id": "aa060bbe",
   "metadata": {},
   "source": [
    "###Partioning\n"
   ]
  },
  {
   "cell_type": "code",
   "execution_count": 51,
   "id": "a5236cb6",
   "metadata": {},
   "outputs": [],
   "source": [
    "X = data.drop([\"timeline\",\"do\"], axis=1)\n",
    "Y = data['do']"
   ]
  },
  {
   "cell_type": "code",
   "execution_count": 52,
   "id": "6a32c772",
   "metadata": {},
   "outputs": [],
   "source": [
    "from sklearn.model_selection import train_test_split\n",
    "X_train, X_test, Y_train, Y_test = train_test_split(X,Y, test_size= 0.2, random_state=101,shuffle=True)"
   ]
  },
  {
   "cell_type": "code",
   "execution_count": 53,
   "id": "1478b25f",
   "metadata": {},
   "outputs": [
    {
     "data": {
      "text/plain": [
       "7.20000     11\n",
       "6.80000     11\n",
       "6.90000     10\n",
       "7.30000      6\n",
       "6.30000      5\n",
       "8.00000      4\n",
       "7.00000      4\n",
       "7.40000      4\n",
       "6.50000      4\n",
       "6.60000      3\n",
       "7.10000      3\n",
       "5.40000      3\n",
       "7.90000      3\n",
       "7.60000      2\n",
       "7.80000      2\n",
       "6.20000      2\n",
       "6.10000      2\n",
       "6.92000      1\n",
       "5.50000      1\n",
       "9.87000      1\n",
       "4.89000      1\n",
       "6.40000      1\n",
       "6.00000      1\n",
       "8.80000      1\n",
       "6.85000      1\n",
       "7.70000      1\n",
       "5.80000      1\n",
       "8.09000      1\n",
       "9.76000      1\n",
       "7.50000      1\n",
       "7.82553      1\n",
       "4.80000      1\n",
       "9.02000      1\n",
       "10.50000     1\n",
       "8.08000      1\n",
       "8.20000      1\n",
       "6.70000      1\n",
       "8.90000      1\n",
       "8.70000      1\n",
       "6.35000      1\n",
       "7.89000      1\n",
       "10.80000     1\n",
       "3.30000      1\n",
       "7.32000      1\n",
       "Name: do, dtype: int64"
      ]
     },
     "execution_count": 53,
     "metadata": {},
     "output_type": "execute_result"
    }
   ],
   "source": [
    "Y_train.value_counts()"
   ]
  },
  {
   "cell_type": "code",
   "execution_count": 54,
   "id": "d804bfaa",
   "metadata": {},
   "outputs": [
    {
     "data": {
      "text/plain": [
       "7.80      3\n",
       "6.80      3\n",
       "7.20      3\n",
       "7.40      2\n",
       "6.10      1\n",
       "7.00      1\n",
       "6.02      1\n",
       "5.70      1\n",
       "7.01      1\n",
       "6.50      1\n",
       "5.30      1\n",
       "6.00      1\n",
       "6.60      1\n",
       "5.80      1\n",
       "7.30      1\n",
       "7.10      1\n",
       "7.50      1\n",
       "5.20      1\n",
       "112.00    1\n",
       "6.70      1\n",
       "Name: do, dtype: int64"
      ]
     },
     "execution_count": 54,
     "metadata": {},
     "output_type": "execute_result"
    }
   ],
   "source": [
    "Y_test.value_counts()"
   ]
  },
  {
   "cell_type": "code",
   "execution_count": 59,
   "id": "b89065cb",
   "metadata": {},
   "outputs": [
    {
     "data": {
      "text/plain": [
       "ph    co     bod  na    tc     \n",
       "6.80  149.8  2.8  0.32  34000.0    2\n",
       "1.26  112.6  2.8  0.26  33000.0    1\n",
       "7.24  147.0  3.2  0.37  24000.0    1\n",
       "7.36  161.7  1.8  0.27  70000.0    1\n",
       "      142.2  2.3  0.56  50000.0    1\n",
       "                                  ..\n",
       "6.99  146.0  1.5  0.21  29000.0    1\n",
       "6.98  163.4  3.4  0.45  17000.0    1\n",
       "      152.0  1.4  0.12  31000.0    1\n",
       "      138.5  1.1  0.23  47000.0    1\n",
       "8.40  151.0  2.2  0.42  17000.0    1\n",
       "Length: 105, dtype: int64"
      ]
     },
     "execution_count": 59,
     "metadata": {},
     "output_type": "execute_result"
    }
   ],
   "source": [
    "X_train.value_counts()"
   ]
  },
  {
   "cell_type": "code",
   "execution_count": 55,
   "id": "f097b612",
   "metadata": {},
   "outputs": [],
   "source": [
    "#Model Training On Decision Tree Algo"
   ]
  },
  {
   "cell_type": "code",
   "execution_count": 62,
   "id": "b088f281",
   "metadata": {},
   "outputs": [
    {
     "data": {
      "text/plain": [
       "DecisionTreeClassifier(min_samples_split=10)"
      ]
     },
     "execution_count": 62,
     "metadata": {},
     "output_type": "execute_result"
    }
   ],
   "source": [
    "from sklearn.tree import DecisionTreeClassifier\n",
    "from sklearn.metrics import accuracy_score,confusion_matrix,precision_score\n",
    "dt=DecisionTreeClassifier(criterion= 'gini', min_samples_split= 10, splitter= 'best')\n",
    "dt.fit(X_train.astype('int'),Y_train.astype('int'))"
   ]
  },
  {
   "cell_type": "code",
   "execution_count": 64,
   "id": "c95bd45c",
   "metadata": {},
   "outputs": [
    {
     "data": {
      "text/plain": [
       "25.925925925925924"
      ]
     },
     "execution_count": 64,
     "metadata": {},
     "output_type": "execute_result"
    }
   ],
   "source": [
    "prediction=dt.predict(X_test.astype('int'))\n",
    "accuracy_dt=accuracy_score(Y_test.astype('int'),prediction)*100\n",
    "accuracy_dt"
   ]
  },
  {
   "cell_type": "code",
   "execution_count": 65,
   "id": "48f69a46",
   "metadata": {},
   "outputs": [],
   "source": [
    "#Model Using KNN\n",
    "from sklearn.neighbors import KNeighborsClassifier"
   ]
  },
  {
   "cell_type": "code",
   "execution_count": 66,
   "id": "8eb5abc3",
   "metadata": {},
   "outputs": [
    {
     "data": {
      "text/plain": [
       "KNeighborsClassifier(metric='manhattan', n_neighbors=22)"
      ]
     },
     "execution_count": 66,
     "metadata": {},
     "output_type": "execute_result"
    }
   ],
   "source": [
    "knn=KNeighborsClassifier(metric='manhattan', n_neighbors=22)\n",
    "knn.fit(X_train.astype('int'),Y_train.astype('int'))"
   ]
  },
  {
   "cell_type": "code",
   "execution_count": 68,
   "id": "a1ed64dc",
   "metadata": {},
   "outputs": [],
   "source": [
    "prediction_knn=knn.predict(X_test.astype('int'))\n",
    "accuracy_knn=accuracy_score(Y_test.astype('int'),prediction_knn)*100\n",
    "#print('accuracy_score score     : ',accuracy_score(Y_test,prediction_knn)*100,'%')"
   ]
  },
  {
   "cell_type": "code",
   "execution_count": 69,
   "id": "4eebe6d8",
   "metadata": {},
   "outputs": [
    {
     "data": {
      "text/plain": [
       "37.03703703703704"
      ]
     },
     "execution_count": 69,
     "metadata": {},
     "output_type": "execute_result"
    }
   ],
   "source": [
    "accuracy_knn"
   ]
  },
  {
   "cell_type": "code",
   "execution_count": 70,
   "id": "f525b360",
   "metadata": {},
   "outputs": [],
   "source": [
    "from sklearn.linear_model import LinearRegression"
   ]
  },
  {
   "cell_type": "code",
   "execution_count": 72,
   "id": "c5287908",
   "metadata": {},
   "outputs": [
    {
     "name": "stdout",
     "output_type": "stream",
     "text": [
      "-0.03172864384354268\n"
     ]
    }
   ],
   "source": [
    "regr = LinearRegression()\n",
    "  \n",
    "regr.fit(X_train, Y_train)\n",
    "print(regr.score(X_test, Y_test))"
   ]
  },
  {
   "cell_type": "code",
   "execution_count": null,
   "id": "c17bb26f",
   "metadata": {},
   "outputs": [],
   "source": []
  }
 ],
 "metadata": {
  "kernelspec": {
   "display_name": "Python 3 (ipykernel)",
   "language": "python",
   "name": "python3"
  },
  "language_info": {
   "codemirror_mode": {
    "name": "ipython",
    "version": 3
   },
   "file_extension": ".py",
   "mimetype": "text/x-python",
   "name": "python",
   "nbconvert_exporter": "python",
   "pygments_lexer": "ipython3",
   "version": "3.8.10"
  }
 },
 "nbformat": 4,
 "nbformat_minor": 5
}
